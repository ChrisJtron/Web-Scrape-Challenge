{
 "cells": [
  {
   "cell_type": "code",
   "execution_count": 2,
   "metadata": {},
   "outputs": [],
   "source": [
    "# Dependencies\n",
    "import pandas as pd\n",
    "from splinter import Browser\n",
    "from bs4 import BeautifulSoup\n",
    "import requests"
   ]
  },
  {
   "cell_type": "code",
   "execution_count": 2,
   "metadata": {},
   "outputs": [],
   "source": [
    "executable_path = {'executable_path': 'chromedriver.exe'}\n",
    "browser = Browser('chrome', **executable_path, headless=False)"
   ]
  },
  {
   "cell_type": "code",
   "execution_count": 3,
   "metadata": {},
   "outputs": [],
   "source": [
    "url= \"https://mars.nasa.gov/news/?page=0&per_page=40&order=publish_date+desc%2Ccreated_at+desc&search=&category=19%2C165%2C184%2C204&blank_scope=Latest\"\n",
    "browser.visit(url)"
   ]
  },
  {
   "cell_type": "code",
   "execution_count": 4,
   "metadata": {},
   "outputs": [
    {
     "name": "stdout",
     "output_type": "stream",
     "text": [
      "Mars Now\n",
      "NASA Readies Perseverance Mars Rover's Earthly Twin \n",
      "NASA Engineers Checking InSight's Weather Sensors\n",
      "Follow NASA's Perseverance Rover in Real Time on Its Way to Mars\n",
      "NASA Establishes Board to Initially Review Mars Sample Return Plans\n",
      "NASA's Ingenuity Mars Helicopter Recharges Its Batteries in Flight\n",
      "Celebrate Mars Reconnaissance Orbiter's Views From Above\n",
      "NASA's MAVEN Observes Martian Night Sky Pulsing in Ultraviolet Light\n",
      "8 Martian Postcards to Celebrate Curiosity's Landing Anniversary\n",
      "NASA, ULA Launch Mars 2020 Perseverance Rover Mission to Red Planet\n",
      "NASA's Perseverance Rover Will Carry First Spacesuit Materials to Mars\n",
      "A New Video Captures the Science of NASA's Perseverance Mars Rover\n",
      "NASA Invites Public to Share Excitement of Mars 2020 Perseverance Rover Launch\n",
      "NASA's Mars Perseverance Rover Passes Flight Readiness Review\n",
      "NASA to Broadcast Mars 2020 Perseverance Launch, Prelaunch Activities\n",
      "6 Things to Know About NASA's Ingenuity Mars Helicopter\n",
      "Join NASA for the Launch of the Mars 2020 Perseverance Rover\n",
      "NASA's Perseverance Rover Attached to Atlas V Rocket\n",
      "7 Things to Know About the Mars 2020 Perseverance Rover Mission\n",
      "NASA's InSight Flexes Its Arm While Its 'Mole' Hits Pause\n",
      "Curiosity Mars Rover's Summer Road Trip Has Begun\n",
      "How NASA's Mars Helicopter Will Reach the Red Planet's Surface\n",
      "The Launch Is Approaching for NASA's Next Mars Rover, Perseverance\n",
      "NASA to Hold Mars 2020 Perseverance Rover Launch Briefing\n",
      "While Stargazing on Mars, NASA's Curiosity Rover Spots Earth and Venus\n",
      "NASA's Mars Rover Drivers Need Your Help\n",
      "Three New Views of Mars' Moon Phobos\n",
      "The Extraordinary Sample-Gathering System of NASA's Perseverance Mars Rover\n",
      "The Detective Aboard NASA's Perseverance Rover\n",
      "MAVEN Maps Electric Currents around Mars that are Fundamental to Atmospheric Loss\n",
      "Air Deliveries Bring NASA's Perseverance Mars Rover Closer to Launch\n",
      "NASA Wins 4 Webbys, 4 People's Voice Awards\n",
      "NASA's Perseverance Rover Goes Through Trials by Fire, Ice, Light and Sound\n",
      "NASA's Perseverance Rover Mission Getting in Shape for Launch\n",
      "NASA Perseverance Mars Rover Scientists Train in the Nevada Desert\n",
      "NASA's Perseverance Rover Will Look at Mars Through These 'Eyes'\n",
      "Meet the People Behind NASA's Perseverance Rover\n",
      "Q&A with the Student Who Named Ingenuity, NASA's Mars Helicopter\n",
      "Alabama High School Student Names NASA's Mars Helicopter\n",
      "How NASA's Perseverance Mars Team Adjusted to Work in the Time of Coronavirus \n",
      "NASA's Perseverance Mars Rover Gets Balanced\n",
      "\n",
      "\n",
      "NASA to Hold Mars 2020 Perseverance Rover Launch Briefing\n",
      "\n",
      "\n",
      "\n",
      "\n",
      "Alabama High School Student Names NASA's Mars Helicopter\n",
      "\n",
      "\n",
      "\n",
      "\n",
      "Mars Helicopter Attached to NASA's Perseverance Rover\n",
      "\n",
      "\n",
      "\n",
      "\n",
      "NASA Readies Perseverance Mars Rover's Earthly Twin \n",
      "\n",
      "\n",
      "\n",
      "\n",
      "NASA to Broadcast Mars 2020 Perseverance Launch, Prelaunch Activities\n",
      "\n",
      "\n",
      "\n",
      "\n",
      "The Launch Is Approaching for NASA's Next Mars Rover, Perseverance\n",
      "\n",
      "\n",
      "\n",
      "\n",
      "NASA to Hold Mars 2020 Perseverance Rover Launch Briefing\n",
      "\n",
      "\n",
      "\n",
      "\n",
      "Alabama High School Student Names NASA's Mars Helicopter\n",
      "\n",
      "\n",
      "\n",
      "\n",
      "Mars Helicopter Attached to NASA's Perseverance Rover\n",
      "\n",
      "\n",
      "\n",
      "\n",
      "NASA Readies Perseverance Mars Rover's Earthly Twin \n",
      "\n",
      "\n",
      "\n",
      "\n",
      "NASA to Broadcast Mars 2020 Perseverance Launch, Prelaunch Activities\n",
      "\n",
      "\n",
      "\n",
      "\n",
      "The Launch Is Approaching for NASA's Next Mars Rover, Perseverance\n",
      "\n",
      "\n"
     ]
    }
   ],
   "source": [
    "    html = browser.html\n",
    "    soup = BeautifulSoup(html, 'html.parser')\n",
    "\n",
    "    headlines = soup.find_all('div', class_='content_title')\n",
    "\n",
    "    for headline in headlines:\n",
    "        print(headline.text)"
   ]
  },
  {
   "cell_type": "code",
   "execution_count": 10,
   "metadata": {},
   "outputs": [],
   "source": [
    "paragraphs=soup.find_all('div', class_='article_teaser_body')"
   ]
  },
  {
   "cell_type": "code",
   "execution_count": 12,
   "metadata": {},
   "outputs": [
    {
     "name": "stdout",
     "output_type": "stream",
     "text": [
      "Did you know NASA's next Mars rover has a nearly identical sibling on Earth for testing? Even better, it's about to roll for the first time through a replica Martian landscape.\n",
      "-------------------\n",
      "An electronics issue is suspected to be preventing the sensors from sharing their data about Mars weather with the spacecraft.\n",
      "-------------------\n",
      "A crisply rendered web application can show you where the agency's Mars 2020 mission is right now as it makes its way to the Red Planet for a Feb. 18, 2021, landing.\n",
      "-------------------\n",
      "The board will assist with analysis of current plans and goals for one of the most difficult missions humanity has ever undertaken.\n",
      "-------------------\n",
      "Headed to the Red Planet with the Perseverance rover, the pioneering helicopter is powered up for the first time in interplanetary space as part of a systems check.\n",
      "-------------------\n",
      "Marking its 15th anniversary since launch, one of the oldest spacecraft at the Red Planet has provided glimpses of dust devils, avalanches, and more.\n",
      "-------------------\n",
      "Vast areas of the Martian night sky pulse in ultraviolet light, according to images from NASA’s MAVEN spacecraft. The results are being used to illuminate complex circulation patterns in the Martian atmosphere.\n",
      "-------------------\n",
      "The NASA rover touched down eight years ago, on Aug. 5, 2012, and will soon be joined by a second rover, Perseverance.\n",
      "-------------------\n",
      "The agency's Mars 2020 mission is on its way. It will land at Jezero Crater in about seven months, on Feb. 18, 2021. \n",
      "-------------------\n",
      "In a Q&A, spacesuit designer Amy Ross explains how five samples, including a piece of helmet visor, will be tested aboard the rover, which is targeting a July 30 launch. \n",
      "-------------------\n",
      "With a targeted launch date of July 30, the next robotic scientist NASA is sending to the to the Red Planet has big ambitions.\n",
      "-------------------\n",
      "There are lots of ways to participate in the historic event, which is targeted for July 30.\n",
      "-------------------\n",
      "​The agency's Mars 2020 mission has one more big prelaunch review – the Launch Readiness Review, on July 27.\n",
      "-------------------\n",
      "Starting July 27, news activities will cover everything from mission engineering and science to returning samples from Mars to, of course, the launch itself.\n",
      "-------------------\n",
      "The first helicopter attempting to fly on another planet is a marvel of engineering. Get up to speed with these key facts about its plans.\n",
      "-------------------\n",
      "No matter where you live, choose from a menu of activities to join NASA as we \"Countdown to Mars\" and launch the Perseverance rover to the Red Planet.\n",
      "-------------------\n",
      "Ready for its launch later in the month, the Mars-bound rover will touch terra firma no more.\n",
      "-------------------\n",
      "NASA's next rover to the Red Planet is slated to launch no earlier than July 30. These highlights will get you up to speed on the ambitious mission.\n",
      "-------------------\n",
      "Now that the lander's robotic arm has helped the mole get underground, it will resume science activities that have been on hold.\n",
      "-------------------\n",
      "After more than a year in the \"clay-bearing unit,\" Curiosity is making a mile-long journey around some deep sand so that it can explore higher up Mount Sharp.\n",
      "-------------------\n",
      "The small craft will seek to prove that powered, controlled flight is possible on another planet. But just getting it onto the surface of Mars will take a whole lot of ingenuity.\n",
      "-------------------\n",
      "The Red Planet's surface has been visited by eight NASA spacecraft. The ninth will be the first that includes a roundtrip ticket in its flight plan. \n",
      "-------------------\n",
      "Learn more about the agency's next Red Planet mission during a live event on June 17.\n",
      "-------------------\n",
      "This new portrait of the Red Planet's neighbors was taken during a time when there's more dust in the air on Mars.\n",
      "-------------------\n",
      "Using an online tool to label Martian terrain types, you can train an artificial intelligence algorithm that could improve the way engineers guide the Curiosity rover.\n",
      "-------------------\n",
      "Taken with the infrared camera aboard NASA's Odyssey orbiter, they reveal temperature variations on the small moon as it drifts into and out of Mars’ shadow.\n",
      "-------------------\n",
      "Two astronauts collected Moon rocks on Apollo 11. It will take three robotic systems working together to gather up the first Mars rock samples for return to Earth.\n",
      "-------------------\n",
      "An instrument called SHERLOC will, with the help of its partner WATSON, hunt for signs of ancient life by detecting organic molecules and minerals.\n",
      "-------------------\n",
      "Five years after NASA’s MAVEN spacecraft entered into orbit around Mars, data from the mission has led to the creation of a map of electric current systems in the Martian atmosphere.\n",
      "-------------------\n",
      "A NASA Wallops Flight Facility cargo plane transported more than two tons of equipment — including the rover's sample collection tubes — to Florida for this summer's liftoff.\n",
      "-------------------\n",
      "Winners include the JPL-managed \"Send Your Name to Mars\" campaign, NASA's Global Climate Change website and Solar System Interactive.\n",
      "-------------------\n",
      "The agency's new Mars rover is put through a series of tests in vacuum chambers, acoustic chambers and more to get ready for the Red Planet.\n",
      "-------------------\n",
      "Stacking spacecraft components on top of each other is one of the final assembly steps before a mission launches to the Red Planet. \n",
      "-------------------\n",
      "Team members searched for signs of ancient microscopic life there, just as NASA's latest rover will on the Red Planet next year.\n",
      "-------------------\n",
      "A pair of zoomable cameras will help scientists and rover drivers with high-resolution color images.\n",
      "-------------------\n",
      "These are the scientists and engineers who built NASA's next Mars rover and who will guide it to a safe landing in Jezero Crater. \n",
      "-------------------\n",
      "As a longtime fan of space exploration, Vaneeza Rupani appreciates the creativity and collaboration involved with trying to fly on another planet.\n",
      "-------------------\n",
      "Vaneeza Rupani's essay was chosen as the name for the small spacecraft, which will mark NASA's first attempt at powered flight on another planet.\n",
      "-------------------\n",
      "Like much of the rest of the world, the Mars rover team is pushing forward with its mission-critical work while putting the health and safety of their colleagues and community first.\n",
      "-------------------\n",
      "The mission team performed a crucial weight-balancing test on the rover in preparation for this summer's history-making launch to the Red Planet.\n",
      "-------------------\n"
     ]
    }
   ],
   "source": [
    "for par in paragraphs:\n",
    "    print(par.text)\n",
    "    print('-------------------')"
   ]
  },
  {
   "cell_type": "code",
   "execution_count": 13,
   "metadata": {
    "scrolled": true
   },
   "outputs": [
    {
     "name": "stdout",
     "output_type": "stream",
     "text": [
      "Did you know NASA's next Mars rover has a nearly identical sibling on Earth for testing? Even better, it's about to roll for the first time through a replica Martian landscape.\n"
     ]
    }
   ],
   "source": [
    "print(paragraphs[0].text)"
   ]
  },
  {
   "cell_type": "code",
   "execution_count": 43,
   "metadata": {},
   "outputs": [
    {
     "name": "stdout",
     "output_type": "stream",
     "text": [
      "[{'headline': 'Mars Now'}, {'headline': 'My Culture, My Voice'}, {'headline': \"NASA Readies Perseverance Mars Rover's Earthly Twin \"}, {'headline': \"NASA Engineers Checking InSight's Weather Sensors\"}, {'headline': \"Follow NASA's Perseverance Rover in Real Time on Its Way to Mars\"}, {'headline': 'NASA Establishes Board to Initially Review Mars Sample Return Plans'}, {'headline': \"NASA's Ingenuity Mars Helicopter Recharges Its Batteries in Flight\"}, {'headline': \"Celebrate Mars Reconnaissance Orbiter's Views From Above\"}, {'headline': \"NASA's MAVEN Observes Martian Night Sky Pulsing in Ultraviolet Light\"}, {'headline': \"8 Martian Postcards to Celebrate Curiosity's Landing Anniversary\"}, {'headline': 'NASA, ULA Launch Mars 2020 Perseverance Rover Mission to Red Planet'}, {'headline': \"NASA's Perseverance Rover Will Carry First Spacesuit Materials to Mars\"}, {'headline': \"A New Video Captures the Science of NASA's Perseverance Mars Rover\"}, {'headline': 'NASA Invites Public to Share Excitement of Mars 2020 Perseverance Rover Launch'}, {'headline': \"NASA's Mars Perseverance Rover Passes Flight Readiness Review\"}, {'headline': 'NASA to Broadcast Mars 2020 Perseverance Launch, Prelaunch Activities'}, {'headline': \"6 Things to Know About NASA's Ingenuity Mars Helicopter\"}, {'headline': 'Join NASA for the Launch of the Mars 2020 Perseverance Rover'}, {'headline': \"NASA's Perseverance Rover Attached to Atlas V Rocket\"}, {'headline': '7 Things to Know About the Mars 2020 Perseverance Rover Mission'}, {'headline': \"NASA's InSight Flexes Its Arm While Its 'Mole' Hits Pause\"}, {'headline': \"Curiosity Mars Rover's Summer Road Trip Has Begun\"}, {'headline': \"How NASA's Mars Helicopter Will Reach the Red Planet's Surface\"}, {'headline': \"The Launch Is Approaching for NASA's Next Mars Rover, Perseverance\"}, {'headline': 'NASA to Hold Mars 2020 Perseverance Rover Launch Briefing'}, {'headline': \"While Stargazing on Mars, NASA's Curiosity Rover Spots Earth and Venus\"}, {'headline': \"NASA's Mars Rover Drivers Need Your Help\"}, {'headline': \"Three New Views of Mars' Moon Phobos\"}, {'headline': \"The Extraordinary Sample-Gathering System of NASA's Perseverance Mars Rover\"}, {'headline': \"The Detective Aboard NASA's Perseverance Rover\"}, {'headline': 'MAVEN Maps Electric Currents around Mars that are Fundamental to Atmospheric Loss'}, {'headline': \"Air Deliveries Bring NASA's Perseverance Mars Rover Closer to Launch\"}, {'headline': \"NASA Wins 4 Webbys, 4 People's Voice Awards\"}, {'headline': \"NASA's Perseverance Rover Goes Through Trials by Fire, Ice, Light and Sound\"}, {'headline': \"NASA's Perseverance Rover Mission Getting in Shape for Launch\"}, {'headline': 'NASA Perseverance Mars Rover Scientists Train in the Nevada Desert'}, {'headline': \"NASA's Perseverance Rover Will Look at Mars Through These 'Eyes'\"}, {'headline': \"Meet the People Behind NASA's Perseverance Rover\"}, {'headline': \"Q&A with the Student Who Named Ingenuity, NASA's Mars Helicopter\"}, {'headline': \"Alabama High School Student Names NASA's Mars Helicopter\"}, {'headline': \"How NASA's Perseverance Mars Team Adjusted to Work in the Time of Coronavirus \"}, {'headline': '\\n\\nNASA to Hold Mars 2020 Perseverance Rover Launch Briefing\\n\\n'}, {'headline': \"\\n\\nAlabama High School Student Names NASA's Mars Helicopter\\n\\n\"}, {'headline': \"\\n\\nMars Helicopter Attached to NASA's Perseverance Rover\\n\\n\"}, {'headline': \"\\n\\nNASA Readies Perseverance Mars Rover's Earthly Twin \\n\\n\"}, {'headline': '\\n\\nNASA to Broadcast Mars 2020 Perseverance Launch, Prelaunch Activities\\n\\n'}, {'headline': \"\\n\\nThe Launch Is Approaching for NASA's Next Mars Rover, Perseverance\\n\\n\"}, {'headline': '\\n\\nNASA to Hold Mars 2020 Perseverance Rover Launch Briefing\\n\\n'}, {'headline': \"\\n\\nAlabama High School Student Names NASA's Mars Helicopter\\n\\n\"}, {'headline': \"\\n\\nMars Helicopter Attached to NASA's Perseverance Rover\\n\\n\"}, {'headline': \"\\n\\nNASA Readies Perseverance Mars Rover's Earthly Twin \\n\\n\"}, {'headline': '\\n\\nNASA to Broadcast Mars 2020 Perseverance Launch, Prelaunch Activities\\n\\n'}, {'headline': \"\\n\\nThe Launch Is Approaching for NASA's Next Mars Rover, Perseverance\\n\\n\"}]\n"
     ]
    }
   ],
   "source": [
    "### Make a list of dictionaries to store in MongDB\n",
    "executable_path = {'executable_path': 'chromedriver.exe'}\n",
    "browser = Browser('chrome', **executable_path, headless=False)\n",
    "\n",
    "url='https://mars.nasa.gov/news/?page=0&per_page=40&order=publish_date+desc%2Ccreated_at+desc&search=&category=19%2C165%2C184%2C204&blank_scope=Latest'\n",
    "browser.visit(url)\n",
    "\n",
    "html = browser.html\n",
    "soup = BeautifulSoup(html, 'html.parser')\n",
    "\n",
    "headlines = soup.find_all('div', class_='content_title')\n",
    "\n",
    "\n",
    "news_headlines=[]\n",
    "for headline in headlines:\n",
    "    headline_data={}\n",
    "    headline_data['headline']=(headline.text)\n",
    "    news_headlines.append(headline_data)\n",
    "    \n",
    "\n",
    "print(news_headlines)\n",
    "    "
   ]
  },
  {
   "cell_type": "code",
   "execution_count": 52,
   "metadata": {},
   "outputs": [
    {
     "name": "stdout",
     "output_type": "stream",
     "text": [
      "[{'paragraph': \"Did you know NASA's next Mars rover has a nearly identical sibling on Earth for testing? Even better, it's about to roll for the first time through a replica Martian landscape.\"}, {'paragraph': 'An electronics issue is suspected to be preventing the sensors from sharing their data about Mars weather with the spacecraft.'}, {'paragraph': \"A crisply rendered web application can show you where the agency's Mars 2020 mission is right now as it makes its way to the Red Planet for a Feb. 18, 2021, landing.\"}, {'paragraph': 'The board will assist with analysis of current plans and goals for one of the most difficult missions humanity has ever undertaken.'}, {'paragraph': 'Headed to the Red Planet with the Perseverance rover, the pioneering helicopter is powered up for the first time in interplanetary space as part of a systems check.'}, {'paragraph': 'Marking its 15th anniversary since launch, one of the oldest spacecraft at the Red Planet has provided glimpses of dust devils, avalanches, and more.'}, {'paragraph': 'Vast areas of the Martian night sky pulse in ultraviolet light, according to images from NASA’s MAVEN spacecraft. The results are being used to illuminate complex circulation patterns in the Martian atmosphere.'}, {'paragraph': 'The NASA rover touched down eight years ago, on Aug. 5, 2012, and will soon be joined by a second rover, Perseverance.'}, {'paragraph': \"The agency's Mars 2020 mission is on its way. It will land at Jezero Crater in about seven months, on Feb. 18, 2021. \"}, {'paragraph': 'In a Q&A, spacesuit designer Amy Ross explains how five samples, including a piece of helmet visor, will be tested aboard the rover, which is targeting a July 30 launch. '}, {'paragraph': 'With a targeted launch date of July 30, the next robotic scientist NASA is sending to the to the Red Planet has big ambitions.'}, {'paragraph': 'There are lots of ways to participate in the historic event, which is targeted for July 30.'}, {'paragraph': \"\\u200bThe agency's Mars 2020 mission has one more big prelaunch review – the Launch Readiness Review, on July 27.\"}, {'paragraph': 'Starting July 27, news activities will cover everything from mission engineering and science to returning samples from Mars to, of course, the launch itself.'}, {'paragraph': 'The first helicopter attempting to fly on another planet is a marvel of engineering. Get up to speed with these key facts about its plans.'}, {'paragraph': 'No matter where you live, choose from a menu of activities to join NASA as we \"Countdown to Mars\" and launch the Perseverance rover to the Red Planet.'}, {'paragraph': 'Ready for its launch later in the month, the Mars-bound rover will touch terra firma no more.'}, {'paragraph': \"NASA's next rover to the Red Planet is slated to launch no earlier than July 30. These highlights will get you up to speed on the ambitious mission.\"}, {'paragraph': \"Now that the lander's robotic arm has helped the mole get underground, it will resume science activities that have been on hold.\"}, {'paragraph': 'After more than a year in the \"clay-bearing unit,\" Curiosity is making a mile-long journey around some deep sand so that it can explore higher up Mount Sharp.'}, {'paragraph': 'The small craft will seek to prove that powered, controlled flight is possible on another planet. But just getting it onto the surface of Mars will take a whole lot of ingenuity.'}, {'paragraph': \"The Red Planet's surface has been visited by eight NASA spacecraft. The ninth will be the first that includes a roundtrip ticket in its flight plan. \"}, {'paragraph': \"Learn more about the agency's next Red Planet mission during a live event on June 17.\"}, {'paragraph': \"This new portrait of the Red Planet's neighbors was taken during a time when there's more dust in the air on Mars.\"}, {'paragraph': 'Using an online tool to label Martian terrain types, you can train an artificial intelligence algorithm that could improve the way engineers guide the Curiosity rover.'}, {'paragraph': \"Taken with the infrared camera aboard NASA's Odyssey orbiter, they reveal temperature variations on the small moon as it drifts into and out of Mars’ shadow.\"}, {'paragraph': 'Two astronauts collected Moon rocks on Apollo 11. It will take three robotic systems working together to gather up the first Mars rock samples for return to Earth.'}, {'paragraph': 'An instrument called SHERLOC will, with the help of its partner WATSON, hunt for signs of ancient life by detecting organic molecules and minerals.'}, {'paragraph': 'Five years after NASA’s MAVEN spacecraft entered into orbit around Mars, data from the mission has led to the creation of a map of electric current systems in the Martian atmosphere.'}, {'paragraph': \"A NASA Wallops Flight Facility cargo plane transported more than two tons of equipment — including the rover's sample collection tubes — to Florida for this summer's liftoff.\"}, {'paragraph': 'Winners include the JPL-managed \"Send Your Name to Mars\" campaign, NASA\\'s Global Climate Change website and Solar System Interactive.'}, {'paragraph': \"The agency's new Mars rover is put through a series of tests in vacuum chambers, acoustic chambers and more to get ready for the Red Planet.\"}, {'paragraph': 'Stacking spacecraft components on top of each other is one of the final assembly steps before a mission launches to the Red Planet. '}, {'paragraph': \"Team members searched for signs of ancient microscopic life there, just as NASA's latest rover will on the Red Planet next year.\"}, {'paragraph': 'A pair of zoomable cameras will help scientists and rover drivers with high-resolution color images.'}, {'paragraph': \"These are the scientists and engineers who built NASA's next Mars rover and who will guide it to a safe landing in Jezero Crater. \"}, {'paragraph': 'As a longtime fan of space exploration, Vaneeza Rupani appreciates the creativity and collaboration involved with trying to fly on another planet.'}, {'paragraph': \"Vaneeza Rupani's essay was chosen as the name for the small spacecraft, which will mark NASA's first attempt at powered flight on another planet.\"}, {'paragraph': 'Like much of the rest of the world, the Mars rover team is pushing forward with its mission-critical work while putting the health and safety of their colleagues and community first.'}, {'paragraph': \"The mission team performed a crucial weight-balancing test on the rover in preparation for this summer's history-making launch to the Red Planet.\"}]\n"
     ]
    }
   ],
   "source": [
    "executable_path = {'executable_path': 'chromedriver.exe'}\n",
    "browser = Browser('chrome', **executable_path, headless=False)\n",
    "\n",
    "url= \"https://mars.nasa.gov/news/?page=0&per_page=40&order=publish_date+desc%2Ccreated_at+desc&search=&category=19%2C165%2C184%2C204&blank_scope=Latest\"\n",
    "browser.visit(url)\n",
    "\n",
    "html = browser.html\n",
    "soup = BeautifulSoup(html, 'html.parser')\n",
    "\n",
    "paragraphs=soup.find_all('div', class_='article_teaser_body')\n",
    "\n",
    "\n",
    "\n",
    "news=[]    \n",
    "for par in paragraphs:\n",
    "    par_data={}\n",
    "    par_data['paragraph']=(par.text)\n",
    "    news.append(par_data)\n",
    "\n",
    "print(news)\n"
   ]
  },
  {
   "cell_type": "code",
   "execution_count": 36,
   "metadata": {},
   "outputs": [
    {
     "data": {
      "text/plain": [
       "{'link': 'https://www.jpl.nasa.gov/spaceimages/images/largesize/PIA19673_hires.jpg'}"
      ]
     },
     "execution_count": 36,
     "metadata": {},
     "output_type": "execute_result"
    }
   ],
   "source": [
    "#### Featured Image\n",
    "import time\n",
    "\n",
    "executable_path = {'executable_path': 'chromedriver.exe'}\n",
    "browser = Browser('chrome', **executable_path, headless=False)\n",
    "\n",
    "url=\"https://www.jpl.nasa.gov/spaceimages/?search=&category=Mars\"\n",
    "browser.visit(url)\n",
    "\n",
    "## click full image button on first page\n",
    "full_image_button=browser.find_by_id('full_image')\n",
    "full_image_button.click()\n",
    "time.sleep(3)\n",
    "\n",
    "##click more info button on second page\n",
    "more_info=browser.links.find_by_partial_text('more info')\n",
    "more_info.click()\n",
    "time.sleep(3)\n",
    "\n",
    "featured_image=browser.links.find_by_partial_href('/spaceimages/image')\n",
    "featured_image.click()\n",
    "\n",
    "\n",
    "featured_link=browser.find_by_tag('img')['src']\n",
    "dict_={}\n",
    "list_=[]\n",
    "dict_['link']= featured_link\n",
    "list_.append(dict_)\n",
    "\n",
    "list_[0]"
   ]
  },
  {
   "cell_type": "code",
   "execution_count": null,
   "metadata": {},
   "outputs": [],
   "source": []
  },
  {
   "cell_type": "code",
   "execution_count": 28,
   "metadata": {},
   "outputs": [
    {
     "data": {
      "text/html": [
       "<div>\n",
       "<style scoped>\n",
       "    .dataframe tbody tr th:only-of-type {\n",
       "        vertical-align: middle;\n",
       "    }\n",
       "\n",
       "    .dataframe tbody tr th {\n",
       "        vertical-align: top;\n",
       "    }\n",
       "\n",
       "    .dataframe thead th {\n",
       "        text-align: right;\n",
       "    }\n",
       "</style>\n",
       "<table border=\"1\" class=\"dataframe\">\n",
       "  <thead>\n",
       "    <tr style=\"text-align: right;\">\n",
       "      <th></th>\n",
       "      <th>0</th>\n",
       "      <th>1</th>\n",
       "    </tr>\n",
       "  </thead>\n",
       "  <tbody>\n",
       "    <tr>\n",
       "      <th>0</th>\n",
       "      <td>Equatorial Diameter:</td>\n",
       "      <td>6,792 km</td>\n",
       "    </tr>\n",
       "    <tr>\n",
       "      <th>1</th>\n",
       "      <td>Polar Diameter:</td>\n",
       "      <td>6,752 km</td>\n",
       "    </tr>\n",
       "    <tr>\n",
       "      <th>2</th>\n",
       "      <td>Mass:</td>\n",
       "      <td>6.39 × 10^23 kg (0.11 Earths)</td>\n",
       "    </tr>\n",
       "    <tr>\n",
       "      <th>3</th>\n",
       "      <td>Moons:</td>\n",
       "      <td>2 (Phobos &amp; Deimos)</td>\n",
       "    </tr>\n",
       "    <tr>\n",
       "      <th>4</th>\n",
       "      <td>Orbit Distance:</td>\n",
       "      <td>227,943,824 km (1.38 AU)</td>\n",
       "    </tr>\n",
       "    <tr>\n",
       "      <th>5</th>\n",
       "      <td>Orbit Period:</td>\n",
       "      <td>687 days (1.9 years)</td>\n",
       "    </tr>\n",
       "    <tr>\n",
       "      <th>6</th>\n",
       "      <td>Surface Temperature:</td>\n",
       "      <td>-87 to -5 °C</td>\n",
       "    </tr>\n",
       "    <tr>\n",
       "      <th>7</th>\n",
       "      <td>First Record:</td>\n",
       "      <td>2nd millennium BC</td>\n",
       "    </tr>\n",
       "    <tr>\n",
       "      <th>8</th>\n",
       "      <td>Recorded By:</td>\n",
       "      <td>Egyptian astronomers</td>\n",
       "    </tr>\n",
       "  </tbody>\n",
       "</table>\n",
       "</div>"
      ],
      "text/plain": [
       "                      0                              1\n",
       "0  Equatorial Diameter:                       6,792 km\n",
       "1       Polar Diameter:                       6,752 km\n",
       "2                 Mass:  6.39 × 10^23 kg (0.11 Earths)\n",
       "3                Moons:            2 (Phobos & Deimos)\n",
       "4       Orbit Distance:       227,943,824 km (1.38 AU)\n",
       "5         Orbit Period:           687 days (1.9 years)\n",
       "6  Surface Temperature:                   -87 to -5 °C\n",
       "7         First Record:              2nd millennium BC\n",
       "8          Recorded By:           Egyptian astronomers"
      ]
     },
     "execution_count": 28,
     "metadata": {},
     "output_type": "execute_result"
    }
   ],
   "source": [
    "#### Mars Facts\n",
    "\n",
    "url= \"https://space-facts.com/mars/\"\n",
    "\n",
    "tables= pd.read_html(url)\n",
    "#print(tables[0])\n",
    "\n",
    "mars_facts_df=pd.DataFrame(tables[0])\n",
    "\n",
    "mars_facts_df"
   ]
  },
  {
   "cell_type": "code",
   "execution_count": 30,
   "metadata": {},
   "outputs": [
    {
     "data": {
      "text/plain": [
       "'<table border=\"1\" class=\"dataframe\">\\n  <thead>\\n    <tr style=\"text-align: right;\">\\n      <th></th>\\n      <th>0</th>\\n      <th>1</th>\\n    </tr>\\n  </thead>\\n  <tbody>\\n    <tr>\\n      <th>0</th>\\n      <td>Equatorial Diameter:</td>\\n      <td>6,792 km</td>\\n    </tr>\\n    <tr>\\n      <th>1</th>\\n      <td>Polar Diameter:</td>\\n      <td>6,752 km</td>\\n    </tr>\\n    <tr>\\n      <th>2</th>\\n      <td>Mass:</td>\\n      <td>6.39 × 10^23 kg (0.11 Earths)</td>\\n    </tr>\\n    <tr>\\n      <th>3</th>\\n      <td>Moons:</td>\\n      <td>2 (Phobos &amp; Deimos)</td>\\n    </tr>\\n    <tr>\\n      <th>4</th>\\n      <td>Orbit Distance:</td>\\n      <td>227,943,824 km (1.38 AU)</td>\\n    </tr>\\n    <tr>\\n      <th>5</th>\\n      <td>Orbit Period:</td>\\n      <td>687 days (1.9 years)</td>\\n    </tr>\\n    <tr>\\n      <th>6</th>\\n      <td>Surface Temperature:</td>\\n      <td>-87 to -5 °C</td>\\n    </tr>\\n    <tr>\\n      <th>7</th>\\n      <td>First Record:</td>\\n      <td>2nd millennium BC</td>\\n    </tr>\\n    <tr>\\n      <th>8</th>\\n      <td>Recorded By:</td>\\n      <td>Egyptian astronomers</td>\\n    </tr>\\n  </tbody>\\n</table>'"
      ]
     },
     "execution_count": 30,
     "metadata": {},
     "output_type": "execute_result"
    }
   ],
   "source": [
    "table_html=mars_facts_df.to_html()\n",
    "table_html"
   ]
  },
  {
   "cell_type": "code",
   "execution_count": 33,
   "metadata": {},
   "outputs": [],
   "source": [
    "### Mars Hemispheres\n",
    "\n",
    "import time\n",
    "\n",
    "executable_path = {'executable_path': 'chromedriver.exe'}\n",
    "browser = Browser('chrome', **executable_path, headless=False)\n",
    "\n",
    "url=\"https://astrogeology.usgs.gov/search/results?q=hemisphere+enhanced&k1=target&v1=Mars\"\n",
    "browser.visit(url)\n",
    "\n",
    "## click full image button on first page\n",
    "cerberus=browser.links.find_by_partial_text('Cerberus Hemisphere Enhanced')\n",
    "cerberus.click()\n",
    "time.sleep(5)\n",
    "\n",
    "\n"
   ]
  },
  {
   "cell_type": "code",
   "execution_count": null,
   "metadata": {},
   "outputs": [],
   "source": [
    "\n"
   ]
  },
  {
   "cell_type": "code",
   "execution_count": null,
   "metadata": {},
   "outputs": [],
   "source": []
  }
 ],
 "metadata": {
  "kernelspec": {
   "display_name": "Python 3",
   "language": "python",
   "name": "python3"
  },
  "language_info": {
   "codemirror_mode": {
    "name": "ipython",
    "version": 3
   },
   "file_extension": ".py",
   "mimetype": "text/x-python",
   "name": "python",
   "nbconvert_exporter": "python",
   "pygments_lexer": "ipython3",
   "version": "3.7.6"
  }
 },
 "nbformat": 4,
 "nbformat_minor": 4
}
